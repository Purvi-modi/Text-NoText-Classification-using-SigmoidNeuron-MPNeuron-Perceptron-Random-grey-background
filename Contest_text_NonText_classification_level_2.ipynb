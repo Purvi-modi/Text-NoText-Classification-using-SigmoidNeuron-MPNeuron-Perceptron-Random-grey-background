{
  "nbformat": 4,
  "nbformat_minor": 0,
  "metadata": {
    "colab": {
      "name": "Contest_text_NonText_classification_level_2.ipynb",
      "version": "0.3.2",
      "provenance": [],
      "collapsed_sections": [
        "iWyPmnsRcMRb",
        "TKUo6KRTkXQ4",
        "0sxXiWjrQuY6"
      ],
      "toc_visible": true
    },
    "kernelspec": {
      "name": "python3",
      "display_name": "Python 3"
    }
  },
  "cells": [
    {
      "metadata": {
        "id": "jtgAwDAekxxS",
        "colab_type": "code",
        "colab": {}
      },
      "cell_type": "code",
      "source": [
        "import matplotlib.pyplot as plt"
      ],
      "execution_count": 0,
      "outputs": []
    },
    {
      "metadata": {
        "id": "N0eU8YND7JXs",
        "colab_type": "code",
        "colab": {}
      },
      "cell_type": "code",
      "source": [
        "import pandas as pd"
      ],
      "execution_count": 0,
      "outputs": []
    },
    {
      "metadata": {
        "id": "wopul4MpznPR",
        "colab_type": "code",
        "colab": {}
      },
      "cell_type": "code",
      "source": [
        "from sklearn.metrics import accuracy_score"
      ],
      "execution_count": 0,
      "outputs": []
    },
    {
      "metadata": {
        "id": "oy1IM5qwkTP2",
        "colab_type": "text"
      },
      "cell_type": "markdown",
      "source": [
        "# Reading Train-Test zip files from google drive"
      ]
    },
    {
      "metadata": {
        "id": "lo6BuGMarotM",
        "colab_type": "code",
        "outputId": "a9aa6ecc-97f3-42d9-d17a-fc8426ba7043",
        "colab": {
          "base_uri": "https://localhost:8080/",
          "height": 54
        }
      },
      "cell_type": "code",
      "source": [
        "from google.colab import drive\n",
        "drive.mount('/content/gdrive')"
      ],
      "execution_count": 0,
      "outputs": [
        {
          "output_type": "stream",
          "text": [
            "Drive already mounted at /content/gdrive; to attempt to forcibly remount, call drive.mount(\"/content/gdrive\", force_remount=True).\n"
          ],
          "name": "stdout"
        }
      ]
    },
    {
      "metadata": {
        "id": "tXRW8JqBuG2B",
        "colab_type": "code",
        "outputId": "48676a6a-2276-4f08-ba21-2aa00cc99b16",
        "colab": {
          "base_uri": "https://localhost:8080/",
          "height": 52
        }
      },
      "cell_type": "code",
      "source": [
        "!unzip \"/content/gdrive/My Drive/level_2_train.zip\""
      ],
      "execution_count": 0,
      "outputs": [
        {
          "output_type": "stream",
          "text": [
            "Archive:  /content/gdrive/My Drive/level_2_train.zip\n",
            "replace level_2/background/0.jpg? [y]es, [n]o, [A]ll, [N]one, [r]ename: "
          ],
          "name": "stdout"
        }
      ]
    },
    {
      "metadata": {
        "id": "oRq8-6oUuJ35",
        "colab_type": "code",
        "colab": {}
      },
      "cell_type": "code",
      "source": [
        "!unzip \"/content/gdrive/My Drive/level_2_test.zip\""
      ],
      "execution_count": 0,
      "outputs": []
    },
    {
      "metadata": {
        "id": "KyRq51N5Paif",
        "colab_type": "text"
      },
      "cell_type": "markdown",
      "source": [
        "# Convert and store each images as dictionary {index:array}"
      ]
    },
    {
      "metadata": {
        "id": "iNzT5Yq12kKS",
        "colab_type": "code",
        "outputId": "9e8089e6-1785-43a3-dcf2-72371acb1a93",
        "colab": {
          "base_uri": "https://localhost:8080/",
          "height": 298
        }
      },
      "cell_type": "code",
      "source": [
        "!pip install --force https://github.com/chengs/tqdm/archive/colab.zip"
      ],
      "execution_count": 0,
      "outputs": [
        {
          "output_type": "stream",
          "text": [
            "Collecting https://github.com/chengs/tqdm/archive/colab.zip\n",
            "  Downloading https://github.com/chengs/tqdm/archive/colab.zip\n",
            "\u001b[K     | 481kB 8.8MB/s\n",
            "Building wheels for collected packages: tqdm\n",
            "  Building wheel for tqdm (setup.py) ... \u001b[?25ldone\n",
            "\u001b[?25h  Stored in directory: /tmp/pip-ephem-wheel-cache-ycbllolu/wheels/41/18/ee/d5dd158441b27965855b1bbae03fa2d8a91fe645c01b419896\n",
            "Successfully built tqdm\n",
            "\u001b[31mspacy 2.0.18 has requirement numpy>=1.15.0, but you'll have numpy 1.14.6 which is incompatible.\u001b[0m\n",
            "\u001b[31mfeaturetools 0.4.1 has requirement pandas>=0.23.0, but you'll have pandas 0.22.0 which is incompatible.\u001b[0m\n",
            "\u001b[31mfastai 1.0.46 has requirement numpy>=1.15, but you'll have numpy 1.14.6 which is incompatible.\u001b[0m\n",
            "Installing collected packages: tqdm\n",
            "  Found existing installation: tqdm 4.28.1\n",
            "    Uninstalling tqdm-4.28.1:\n",
            "      Successfully uninstalled tqdm-4.28.1\n",
            "Successfully installed tqdm-4.28.1\n"
          ],
          "name": "stdout"
        }
      ]
    },
    {
      "metadata": {
        "id": "DHFKdmkt2lZr",
        "colab_type": "code",
        "colab": {}
      },
      "cell_type": "code",
      "source": [
        "from tqdm import tqdm_notebook"
      ],
      "execution_count": 0,
      "outputs": []
    },
    {
      "metadata": {
        "id": "0-VVOOt8KtpZ",
        "colab_type": "text"
      },
      "cell_type": "markdown",
      "source": [
        "Understand 2"
      ]
    },
    {
      "metadata": {
        "id": "klmBbFHv23Hy",
        "colab_type": "code",
        "outputId": "f726fb21-6756-46b1-c736-cd41cbd491c3",
        "colab": {
          "base_uri": "https://localhost:8080/",
          "height": 109
        }
      },
      "cell_type": "code",
      "source": [
        "for i in tqdm_notebook(range(10000000), total=10000000, unit=\"epoch\"):\n",
        "  x=10000\n",
        "  y=x*x*x*x*x"
      ],
      "execution_count": 0,
      "outputs": [
        {
          "output_type": "stream",
          "text": [
            "/usr/local/lib/python3.6/dist-packages/tqdm/_tqdm_notebook.py:88: TqdmExperimentalWarning: Detect Google Colab 0.0.1a2 and thus load dummy ipywidgets package. Note that UI is different from that in Jupyter. See https://github.com/tqdm/tqdm/pull/640\n",
            "  \" See https://github.com/tqdm/tqdm/pull/640\".format(colab.__version__), TqdmExperimentalWarning)\n"
          ],
          "name": "stderr"
        },
        {
          "output_type": "display_data",
          "data": {
            "text/html": [
              "<div style=\"display:flex;flex-direction:row;\"><span></span><progress style='margin:2px 4px;' max='10000000' value='10000000'></progress>100% 10000000/10000000 [00:06&lt;00:00, 1526891.31epoch/s]</div>"
            ],
            "text/plain": [
              "<tqdm._fake_ipywidgets.HBox object>"
            ]
          },
          "metadata": {
            "tags": []
          }
        },
        {
          "output_type": "stream",
          "text": [
            "\n"
          ],
          "name": "stdout"
        }
      ]
    },
    {
      "metadata": {
        "id": "RrklK3gnKvZG",
        "colab_type": "text"
      },
      "cell_type": "markdown",
      "source": [
        "----------------------------------------------------------------------------------------------------------------------"
      ]
    },
    {
      "metadata": {
        "id": "SqkMIM0B5_5i",
        "colab_type": "code",
        "colab": {}
      },
      "cell_type": "code",
      "source": [
        "from PIL import Image, ImageFilter\n",
        "import numpy as np"
      ],
      "execution_count": 0,
      "outputs": []
    },
    {
      "metadata": {
        "id": "OTHAwqCOKH2-",
        "colab_type": "text"
      },
      "cell_type": "markdown",
      "source": [
        "Understand 1"
      ]
    },
    {
      "metadata": {
        "id": "1aF2tfx-9uaq",
        "colab_type": "code",
        "colab": {}
      },
      "cell_type": "code",
      "source": [
        "img= Image.open('index.png')\n",
        "image_a=np.array(img)          #rows, columns, color channels)\n",
        "print(image_a[0,0])       # there are 200 rows, 400 columns and each A[i,j] contains [height,width,color]\n",
        "print(image_a.shape)"
      ],
      "execution_count": 0,
      "outputs": []
    },
    {
      "metadata": {
        "id": "5OvyjVYSKTj3",
        "colab_type": "text"
      },
      "cell_type": "markdown",
      "source": [
        "------------------------------------------------------------------------------------------------------"
      ]
    },
    {
      "metadata": {
        "id": "ThU6-MbWw4H0",
        "colab_type": "code",
        "colab": {}
      },
      "cell_type": "code",
      "source": [
        "import os"
      ],
      "execution_count": 0,
      "outputs": []
    },
    {
      "metadata": {
        "id": "SdJu-_iJwIZL",
        "colab_type": "code",
        "colab": {}
      },
      "cell_type": "code",
      "source": [
        "def read_all(folder_path,key_prefix=\"\"):\n",
        "  \n",
        "  print(\"reading:\")\n",
        "  \n",
        "  images={}\n",
        "  \n",
        "  files = sorted(os.listdir(folder_path))    # os.listdir is an os independent function that Return a list containing the names of the entries in the directory given by path.\n",
        "  \n",
        "  for i,file_name in tqdm_notebook(enumerate(files), total=len(files)):   # enumerate adds a numerical index to files\n",
        "    print(file_name)\n",
        "    file_path = os.path.join(folder_path,file_name)   #dataset_train/level_1/background/0.jpg\n",
        "    \n",
        "    image_index = key_prefix+file_name[:-4]  #bgr_0\n",
        "    \n",
        "    image = Image.open(file_path)\n",
        "    \n",
        "    image = image.convert(\"L\") # L mode for black and white\n",
        "    \n",
        "    images[image_index] = np.array(image.copy()).flatten()    # Explained in Understand 1\n",
        "    # copy duplicates the image, so that the original one is retained\n",
        "    #flatten in a 1d array\n",
        "    \n",
        "    image.close() # closes the file pointer Closes the file pointer, if possible. This operation will destroy the image core and release its memory. The image data will be unusable afterward.\n",
        "    # anyways, a copy of each image is stored in dictionary, so we dont need\n",
        "  #print(type(images))\n",
        "  return images"
      ],
      "execution_count": 0,
      "outputs": []
    },
    {
      "metadata": {
        "id": "AGv3eBIGuSMl",
        "colab_type": "code",
        "outputId": "c51003d2-8b01-4e85-9dd3-019edcf81b67",
        "colab": {
          "base_uri": "https://localhost:8080/",
          "height": 15902
        }
      },
      "cell_type": "code",
      "source": [
        "languages = ['ta','hi','en']\n",
        "\n",
        "images_train = read_all(\"level_2/background\", key_prefix='bgr_')\n",
        "\n",
        "print(type(images_train))\n",
        "\n",
        "for language in languages:\n",
        "  \n",
        "  images_train.update(read_all(\"level_2/\"+language,key_prefix=language+\"_\"))\n",
        "\n",
        "print(len(images_train))"
      ],
      "execution_count": 0,
      "outputs": [
        {
          "output_type": "stream",
          "text": [
            "reading:\n"
          ],
          "name": "stdout"
        },
        {
          "output_type": "display_data",
          "data": {
            "text/html": [
              "<div style=\"display:flex;flex-direction:row;\"><span></span><progress style='margin:2px 4px;' max='450' value='450'></progress>100% 450/450 [00:00&lt;00:00, 1893.90it/s]</div>"
            ],
            "text/plain": [
              "<tqdm._fake_ipywidgets.HBox object>"
            ]
          },
          "metadata": {
            "tags": []
          }
        },
        {
          "output_type": "stream",
          "text": [
            "0.jpg\n",
            "0_d2.jpg\n",
            "0_d3.jpg\n",
            "1.jpg\n",
            "10.jpg\n",
            "100.jpg\n",
            "100_d2.jpg\n",
            "100_d3.jpg\n",
            "101.jpg\n",
            "101_d2.jpg\n",
            "101_d3.jpg\n",
            "102.jpg\n",
            "102_d2.jpg\n",
            "102_d3.jpg\n",
            "103.jpg\n",
            "103_d2.jpg\n",
            "103_d3.jpg\n",
            "104.jpg\n",
            "104_d2.jpg\n",
            "104_d3.jpg\n",
            "105.jpg\n",
            "105_d2.jpg\n",
            "105_d3.jpg\n",
            "106.jpg\n",
            "106_d2.jpg\n",
            "106_d3.jpg\n",
            "107.jpg\n",
            "107_d2.jpg\n",
            "107_d3.jpg\n",
            "108.jpg\n",
            "108_d2.jpg\n",
            "108_d3.jpg\n",
            "109.jpg\n",
            "109_d2.jpg\n",
            "109_d3.jpg\n",
            "10_d2.jpg\n",
            "10_d3.jpg\n",
            "11.jpg\n",
            "110.jpg\n",
            "110_d2.jpg\n",
            "110_d3.jpg\n",
            "111.jpg\n",
            "111_d2.jpg\n",
            "111_d3.jpg\n",
            "112.jpg\n",
            "112_d2.jpg\n",
            "112_d3.jpg\n",
            "113.jpg\n",
            "113_d2.jpg\n",
            "113_d3.jpg\n",
            "114.jpg\n",
            "114_d2.jpg\n",
            "114_d3.jpg\n",
            "115.jpg\n",
            "115_d2.jpg\n",
            "115_d3.jpg\n",
            "116.jpg\n",
            "116_d2.jpg\n",
            "116_d3.jpg\n",
            "117.jpg\n",
            "117_d2.jpg\n",
            "117_d3.jpg\n",
            "118.jpg\n",
            "118_d2.jpg\n",
            "118_d3.jpg\n",
            "119.jpg\n",
            "119_d2.jpg\n",
            "119_d3.jpg\n",
            "11_d2.jpg\n",
            "11_d3.jpg\n",
            "12.jpg\n",
            "120.jpg\n",
            "120_d2.jpg\n",
            "120_d3.jpg\n",
            "121.jpg\n",
            "121_d2.jpg\n",
            "121_d3.jpg\n",
            "122.jpg\n",
            "122_d2.jpg\n",
            "122_d3.jpg\n",
            "123.jpg\n",
            "123_d2.jpg\n",
            "123_d3.jpg\n",
            "124.jpg\n",
            "124_d2.jpg\n",
            "124_d3.jpg\n",
            "125.jpg\n",
            "125_d2.jpg\n",
            "125_d3.jpg\n",
            "126.jpg\n",
            "126_d2.jpg\n",
            "126_d3.jpg\n",
            "127.jpg\n",
            "127_d2.jpg\n",
            "127_d3.jpg\n",
            "128.jpg\n",
            "128_d2.jpg\n",
            "128_d3.jpg\n",
            "129.jpg\n",
            "129_d2.jpg\n",
            "129_d3.jpg\n",
            "12_d2.jpg\n",
            "12_d3.jpg\n",
            "13.jpg\n",
            "130.jpg\n",
            "130_d2.jpg\n",
            "130_d3.jpg\n",
            "131.jpg\n",
            "131_d2.jpg\n",
            "131_d3.jpg\n",
            "132.jpg\n",
            "132_d2.jpg\n",
            "132_d3.jpg\n",
            "133.jpg\n",
            "133_d2.jpg\n",
            "133_d3.jpg\n",
            "134.jpg\n",
            "134_d2.jpg\n",
            "134_d3.jpg\n",
            "135.jpg\n",
            "135_d2.jpg\n",
            "135_d3.jpg\n",
            "136.jpg\n",
            "136_d2.jpg\n",
            "136_d3.jpg\n",
            "137.jpg\n",
            "137_d2.jpg\n",
            "137_d3.jpg\n",
            "138.jpg\n",
            "138_d2.jpg\n",
            "138_d3.jpg\n",
            "139.jpg\n",
            "139_d2.jpg\n",
            "139_d3.jpg\n",
            "13_d2.jpg\n",
            "13_d3.jpg\n",
            "14.jpg\n",
            "140.jpg\n",
            "140_d2.jpg\n",
            "140_d3.jpg\n",
            "141.jpg\n",
            "141_d2.jpg\n",
            "141_d3.jpg\n",
            "142.jpg\n",
            "142_d2.jpg\n",
            "142_d3.jpg\n",
            "143.jpg\n",
            "143_d2.jpg\n",
            "143_d3.jpg\n",
            "144.jpg\n",
            "144_d2.jpg\n",
            "144_d3.jpg\n",
            "145.jpg\n",
            "145_d2.jpg\n",
            "145_d3.jpg\n",
            "146.jpg\n",
            "146_d2.jpg\n",
            "146_d3.jpg\n",
            "147.jpg\n",
            "147_d2.jpg\n",
            "147_d3.jpg\n",
            "148.jpg\n",
            "148_d2.jpg\n",
            "148_d3.jpg\n",
            "149.jpg\n",
            "149_d2.jpg\n",
            "149_d3.jpg\n",
            "14_d2.jpg\n",
            "14_d3.jpg\n",
            "15.jpg\n",
            "15_d2.jpg\n",
            "15_d3.jpg\n",
            "16.jpg\n",
            "16_d2.jpg\n",
            "16_d3.jpg\n",
            "17.jpg\n",
            "17_d2.jpg\n",
            "17_d3.jpg\n",
            "18.jpg\n",
            "18_d2.jpg\n",
            "18_d3.jpg\n",
            "19.jpg\n",
            "19_d2.jpg\n",
            "19_d3.jpg\n",
            "1_d2.jpg\n",
            "1_d3.jpg\n",
            "2.jpg\n",
            "20.jpg\n",
            "20_d2.jpg\n",
            "20_d3.jpg\n",
            "21.jpg\n",
            "21_d2.jpg\n",
            "21_d3.jpg\n",
            "22.jpg\n",
            "22_d2.jpg\n",
            "22_d3.jpg\n",
            "23.jpg\n",
            "23_d2.jpg\n",
            "23_d3.jpg\n",
            "24.jpg\n",
            "24_d2.jpg\n",
            "24_d3.jpg\n",
            "25.jpg\n",
            "25_d2.jpg\n",
            "25_d3.jpg\n",
            "26.jpg\n",
            "26_d2.jpg\n",
            "26_d3.jpg\n",
            "27.jpg\n",
            "27_d2.jpg\n",
            "27_d3.jpg\n",
            "28.jpg\n",
            "28_d2.jpg\n",
            "28_d3.jpg\n",
            "29.jpg\n",
            "29_d2.jpg\n",
            "29_d3.jpg\n",
            "2_d2.jpg\n",
            "2_d3.jpg\n",
            "3.jpg\n",
            "30.jpg\n",
            "30_d2.jpg\n",
            "30_d3.jpg\n",
            "31.jpg\n",
            "31_d2.jpg\n",
            "31_d3.jpg\n",
            "32.jpg\n",
            "32_d2.jpg\n",
            "32_d3.jpg\n",
            "33.jpg\n",
            "33_d2.jpg\n",
            "33_d3.jpg\n",
            "34.jpg\n",
            "34_d2.jpg\n",
            "34_d3.jpg\n",
            "35.jpg\n",
            "35_d2.jpg\n",
            "35_d3.jpg\n",
            "36.jpg\n",
            "36_d2.jpg\n",
            "36_d3.jpg\n",
            "37.jpg\n",
            "37_d2.jpg\n",
            "37_d3.jpg\n",
            "38.jpg\n",
            "38_d2.jpg\n",
            "38_d3.jpg\n",
            "39.jpg\n",
            "39_d2.jpg\n",
            "39_d3.jpg\n",
            "3_d2.jpg\n",
            "3_d3.jpg\n",
            "4.jpg\n",
            "40.jpg\n",
            "40_d2.jpg\n",
            "40_d3.jpg\n",
            "41.jpg\n",
            "41_d2.jpg\n",
            "41_d3.jpg\n",
            "42.jpg\n",
            "42_d2.jpg\n",
            "42_d3.jpg\n",
            "43.jpg\n",
            "43_d2.jpg\n",
            "43_d3.jpg\n",
            "44.jpg\n",
            "44_d2.jpg\n",
            "44_d3.jpg\n",
            "45.jpg\n",
            "45_d2.jpg\n",
            "45_d3.jpg\n",
            "46.jpg\n",
            "46_d2.jpg\n",
            "46_d3.jpg\n",
            "47.jpg\n",
            "47_d2.jpg\n",
            "47_d3.jpg\n",
            "48.jpg\n",
            "48_d2.jpg\n",
            "48_d3.jpg\n",
            "49.jpg\n",
            "49_d2.jpg\n",
            "49_d3.jpg\n",
            "4_d2.jpg\n",
            "4_d3.jpg\n",
            "5.jpg\n",
            "50.jpg\n",
            "50_d2.jpg\n",
            "50_d3.jpg\n",
            "51.jpg\n",
            "51_d2.jpg\n",
            "51_d3.jpg\n",
            "52.jpg\n",
            "52_d2.jpg\n",
            "52_d3.jpg\n",
            "53.jpg\n",
            "53_d2.jpg\n",
            "53_d3.jpg\n",
            "54.jpg\n",
            "54_d2.jpg\n",
            "54_d3.jpg\n",
            "55.jpg\n",
            "55_d2.jpg\n",
            "55_d3.jpg\n",
            "56.jpg\n",
            "56_d2.jpg\n",
            "56_d3.jpg\n",
            "57.jpg\n",
            "57_d2.jpg\n",
            "57_d3.jpg\n",
            "58.jpg\n",
            "58_d2.jpg\n",
            "58_d3.jpg\n",
            "59.jpg\n",
            "59_d2.jpg\n",
            "59_d3.jpg\n",
            "5_d2.jpg\n",
            "5_d3.jpg\n",
            "6.jpg\n",
            "60.jpg\n",
            "60_d2.jpg\n",
            "60_d3.jpg\n",
            "61.jpg\n",
            "61_d2.jpg\n",
            "61_d3.jpg\n",
            "62.jpg\n",
            "62_d2.jpg\n",
            "62_d3.jpg\n",
            "63.jpg\n",
            "63_d2.jpg\n",
            "63_d3.jpg\n",
            "64.jpg\n",
            "64_d2.jpg\n",
            "64_d3.jpg\n",
            "65.jpg\n",
            "65_d2.jpg\n",
            "65_d3.jpg\n",
            "66.jpg\n",
            "66_d2.jpg\n",
            "66_d3.jpg\n",
            "67.jpg\n",
            "67_d2.jpg\n",
            "67_d3.jpg\n",
            "68.jpg\n",
            "68_d2.jpg\n",
            "68_d3.jpg\n",
            "69.jpg\n",
            "69_d2.jpg\n",
            "69_d3.jpg\n",
            "6_d2.jpg\n",
            "6_d3.jpg\n",
            "7.jpg\n",
            "70.jpg\n",
            "70_d2.jpg\n",
            "70_d3.jpg\n",
            "71.jpg\n",
            "71_d2.jpg\n",
            "71_d3.jpg\n",
            "72.jpg\n",
            "72_d2.jpg\n",
            "72_d3.jpg\n",
            "73.jpg\n",
            "73_d2.jpg\n",
            "73_d3.jpg\n",
            "74.jpg\n",
            "74_d2.jpg\n",
            "74_d3.jpg\n",
            "75.jpg\n",
            "75_d2.jpg\n",
            "75_d3.jpg\n",
            "76.jpg\n",
            "76_d2.jpg\n",
            "76_d3.jpg\n",
            "77.jpg\n",
            "77_d2.jpg\n",
            "77_d3.jpg\n",
            "78.jpg\n",
            "78_d2.jpg\n",
            "78_d3.jpg\n",
            "79.jpg\n",
            "79_d2.jpg\n",
            "79_d3.jpg\n",
            "7_d2.jpg\n",
            "7_d3.jpg\n",
            "8.jpg\n",
            "80.jpg\n",
            "80_d2.jpg\n",
            "80_d3.jpg\n",
            "81.jpg\n",
            "81_d2.jpg\n",
            "81_d3.jpg\n",
            "82.jpg\n",
            "82_d2.jpg\n",
            "82_d3.jpg\n",
            "83.jpg\n",
            "83_d2.jpg\n",
            "83_d3.jpg\n",
            "84.jpg\n",
            "84_d2.jpg\n",
            "84_d3.jpg\n",
            "85.jpg\n",
            "85_d2.jpg\n",
            "85_d3.jpg\n",
            "86.jpg\n",
            "86_d2.jpg\n",
            "86_d3.jpg\n",
            "87.jpg\n",
            "87_d2.jpg\n",
            "87_d3.jpg\n",
            "88.jpg\n",
            "88_d2.jpg\n",
            "88_d3.jpg\n",
            "89.jpg\n",
            "89_d2.jpg\n",
            "89_d3.jpg\n",
            "8_d2.jpg\n",
            "8_d3.jpg\n",
            "9.jpg\n",
            "90.jpg\n",
            "90_d2.jpg\n",
            "90_d3.jpg\n",
            "91.jpg\n",
            "91_d2.jpg\n",
            "91_d3.jpg\n",
            "92.jpg\n",
            "92_d2.jpg\n",
            "92_d3.jpg\n",
            "93.jpg\n",
            "93_d2.jpg\n",
            "93_d3.jpg\n",
            "94.jpg\n",
            "94_d2.jpg\n",
            "94_d3.jpg\n",
            "95.jpg\n",
            "95_d2.jpg\n",
            "95_d3.jpg\n",
            "96.jpg\n",
            "96_d2.jpg\n",
            "96_d3.jpg\n",
            "97.jpg\n",
            "97_d2.jpg\n",
            "97_d3.jpg\n",
            "98.jpg\n",
            "98_d2.jpg\n",
            "98_d3.jpg\n",
            "99.jpg\n",
            "99_d2.jpg\n",
            "99_d3.jpg\n",
            "9_d2.jpg\n",
            "9_d3.jpg\n",
            "\n",
            "<class 'dict'>\n",
            "reading:\n"
          ],
          "name": "stdout"
        },
        {
          "output_type": "display_data",
          "data": {
            "text/html": [
              "<div style=\"display:flex;flex-direction:row;\"><span></span><progress style='margin:2px 4px;' max='150' value='150'></progress>100% 150/150 [00:00&lt;00:00, 1676.10it/s]</div>"
            ],
            "text/plain": [
              "<tqdm._fake_ipywidgets.HBox object>"
            ]
          },
          "metadata": {
            "tags": []
          }
        },
        {
          "output_type": "stream",
          "text": [
            "c0_43.jpg\n",
            "c10_129.jpg\n",
            "c10_131.jpg\n",
            "c12_25.jpg\n",
            "c12_54.jpg\n",
            "c12_71.jpg\n",
            "c13_135.jpg\n",
            "c13_2.jpg\n",
            "c13_60.jpg\n",
            "c14_68.jpg\n",
            "c15_29.jpg\n",
            "c15_42.jpg\n",
            "c15_91.jpg\n",
            "c16_1.jpg\n",
            "c17_21.jpg\n",
            "c18_24.jpg\n",
            "c19_19.jpg\n",
            "c19_55.jpg\n",
            "c1_81.jpg\n",
            "c20_47.jpg\n",
            "c21_36.jpg\n",
            "c22_125.jpg\n",
            "c22_57.jpg\n",
            "c23_79.jpg\n",
            "c25_58.jpg\n",
            "c26_27.jpg\n",
            "c27_120.jpg\n",
            "c27_46.jpg\n",
            "c28_113.jpg\n",
            "c29_6.jpg\n",
            "c2_13.jpg\n",
            "c2_69.jpg\n",
            "c30_121.jpg\n",
            "c30_127.jpg\n",
            "c31_16.jpg\n",
            "c32_132.jpg\n",
            "c32_138.jpg\n",
            "c32_144.jpg\n",
            "c33_104.jpg\n",
            "c33_88.jpg\n",
            "c34_37.jpg\n",
            "c35_112.jpg\n",
            "c36_64.jpg\n",
            "c37_141.jpg\n",
            "c37_17.jpg\n",
            "c38_45.jpg\n",
            "c39_123.jpg\n",
            "c39_134.jpg\n",
            "c41_99.jpg\n",
            "c44_140.jpg\n",
            "c44_59.jpg\n",
            "c45_20.jpg\n",
            "c45_32.jpg\n",
            "c46_108.jpg\n",
            "c46_110.jpg\n",
            "c46_52.jpg\n",
            "c47_53.jpg\n",
            "c47_65.jpg\n",
            "c47_94.jpg\n",
            "c48_145.jpg\n",
            "c49_3.jpg\n",
            "c49_31.jpg\n",
            "c4_77.jpg\n",
            "c50_107.jpg\n",
            "c50_139.jpg\n",
            "c51_23.jpg\n",
            "c51_49.jpg\n",
            "c51_62.jpg\n",
            "c53_70.jpg\n",
            "c53_93.jpg\n",
            "c54_122.jpg\n",
            "c54_18.jpg\n",
            "c54_75.jpg\n",
            "c55_4.jpg\n",
            "c55_66.jpg\n",
            "c56_100.jpg\n",
            "c57_117.jpg\n",
            "c57_118.jpg\n",
            "c57_89.jpg\n",
            "c58_133.jpg\n",
            "c58_5.jpg\n",
            "c59_128.jpg\n",
            "c59_15.jpg\n",
            "c59_38.jpg\n",
            "c59_50.jpg\n",
            "c59_80.jpg\n",
            "c5_30.jpg\n",
            "c5_74.jpg\n",
            "c61_61.jpg\n",
            "c62_115.jpg\n",
            "c62_84.jpg\n",
            "c63_34.jpg\n",
            "c63_90.jpg\n",
            "c64_114.jpg\n",
            "c64_56.jpg\n",
            "c65_11.jpg\n",
            "c65_143.jpg\n",
            "c65_67.jpg\n",
            "c66_103.jpg\n",
            "c66_109.jpg\n",
            "c67_147.jpg\n",
            "c67_78.jpg\n",
            "c68_126.jpg\n",
            "c68_149.jpg\n",
            "c69_10.jpg\n",
            "c69_87.jpg\n",
            "c6_39.jpg\n",
            "c70_28.jpg\n",
            "c72_137.jpg\n",
            "c72_73.jpg\n",
            "c73_8.jpg\n",
            "c75_116.jpg\n",
            "c75_83.jpg\n",
            "c76_101.jpg\n",
            "c76_86.jpg\n",
            "c77_102.jpg\n",
            "c77_35.jpg\n",
            "c78_119.jpg\n",
            "c78_136.jpg\n",
            "c79_96.jpg\n",
            "c7_106.jpg\n",
            "c7_41.jpg\n",
            "c7_72.jpg\n",
            "c80_124.jpg\n",
            "c80_44.jpg\n",
            "c81_9.jpg\n",
            "c82_22.jpg\n",
            "c82_7.jpg\n",
            "c82_82.jpg\n",
            "c82_98.jpg\n",
            "c83_33.jpg\n",
            "c84_63.jpg\n",
            "c84_85.jpg\n",
            "c84_95.jpg\n",
            "c85_51.jpg\n",
            "c86_97.jpg\n",
            "c87_12.jpg\n",
            "c88_105.jpg\n",
            "c88_76.jpg\n",
            "c89_0.jpg\n",
            "c89_130.jpg\n",
            "c8_111.jpg\n",
            "c8_40.jpg\n",
            "c8_92.jpg\n",
            "c91_14.jpg\n",
            "c92_146.jpg\n",
            "c92_26.jpg\n",
            "c93_148.jpg\n",
            "c93_48.jpg\n",
            "c94_142.jpg\n",
            "\n",
            "reading:\n"
          ],
          "name": "stdout"
        },
        {
          "output_type": "display_data",
          "data": {
            "text/html": [
              "<div style=\"display:flex;flex-direction:row;\"><span></span><progress style='margin:2px 4px;' max='150' value='150'></progress>100% 150/150 [00:00&lt;00:00, 1676.39it/s]</div>"
            ],
            "text/plain": [
              "<tqdm._fake_ipywidgets.HBox object>"
            ]
          },
          "metadata": {
            "tags": []
          }
        },
        {
          "output_type": "stream",
          "text": [
            "c0_110.jpg\n",
            "c0_12.jpg\n",
            "c0_39.jpg\n",
            "c0_65.jpg\n",
            "c0_66.jpg\n",
            "c0_68.jpg\n",
            "c0_69.jpg\n",
            "c0_84.jpg\n",
            "c10_13.jpg\n",
            "c10_133.jpg\n",
            "c10_139.jpg\n",
            "c10_47.jpg\n",
            "c10_60.jpg\n",
            "c10_63.jpg\n",
            "c10_80.jpg\n",
            "c10_90.jpg\n",
            "c10_97.jpg\n",
            "c10_99.jpg\n",
            "c11_10.jpg\n",
            "c11_114.jpg\n",
            "c11_132.jpg\n",
            "c11_146.jpg\n",
            "c11_2.jpg\n",
            "c11_27.jpg\n",
            "c11_33.jpg\n",
            "c11_49.jpg\n",
            "c11_5.jpg\n",
            "c11_53.jpg\n",
            "c11_56.jpg\n",
            "c11_72.jpg\n",
            "c11_95.jpg\n",
            "c11_96.jpg\n",
            "c1_102.jpg\n",
            "c1_107.jpg\n",
            "c1_122.jpg\n",
            "c1_123.jpg\n",
            "c1_127.jpg\n",
            "c1_129.jpg\n",
            "c1_14.jpg\n",
            "c1_141.jpg\n",
            "c1_148.jpg\n",
            "c1_149.jpg\n",
            "c1_23.jpg\n",
            "c1_30.jpg\n",
            "c1_35.jpg\n",
            "c1_85.jpg\n",
            "c2_103.jpg\n",
            "c2_118.jpg\n",
            "c2_134.jpg\n",
            "c2_137.jpg\n",
            "c2_138.jpg\n",
            "c2_142.jpg\n",
            "c2_36.jpg\n",
            "c2_61.jpg\n",
            "c2_67.jpg\n",
            "c2_70.jpg\n",
            "c2_89.jpg\n",
            "c2_9.jpg\n",
            "c2_94.jpg\n",
            "c2_98.jpg\n",
            "c3_105.jpg\n",
            "c3_109.jpg\n",
            "c3_11.jpg\n",
            "c3_119.jpg\n",
            "c3_124.jpg\n",
            "c3_19.jpg\n",
            "c3_20.jpg\n",
            "c3_54.jpg\n",
            "c3_55.jpg\n",
            "c3_59.jpg\n",
            "c3_62.jpg\n",
            "c3_7.jpg\n",
            "c3_77.jpg\n",
            "c3_86.jpg\n",
            "c4_120.jpg\n",
            "c4_121.jpg\n",
            "c4_125.jpg\n",
            "c4_16.jpg\n",
            "c4_31.jpg\n",
            "c4_34.jpg\n",
            "c4_44.jpg\n",
            "c4_48.jpg\n",
            "c4_81.jpg\n",
            "c4_87.jpg\n",
            "c4_93.jpg\n",
            "c5_108.jpg\n",
            "c5_111.jpg\n",
            "c5_126.jpg\n",
            "c5_140.jpg\n",
            "c5_26.jpg\n",
            "c5_29.jpg\n",
            "c5_3.jpg\n",
            "c5_4.jpg\n",
            "c5_45.jpg\n",
            "c5_46.jpg\n",
            "c5_51.jpg\n",
            "c5_78.jpg\n",
            "c5_79.jpg\n",
            "c5_88.jpg\n",
            "c6_0.jpg\n",
            "c6_100.jpg\n",
            "c6_116.jpg\n",
            "c6_117.jpg\n",
            "c6_143.jpg\n",
            "c6_41.jpg\n",
            "c6_82.jpg\n",
            "c6_91.jpg\n",
            "c7_1.jpg\n",
            "c7_113.jpg\n",
            "c7_130.jpg\n",
            "c7_147.jpg\n",
            "c7_17.jpg\n",
            "c7_38.jpg\n",
            "c7_6.jpg\n",
            "c7_71.jpg\n",
            "c7_73.jpg\n",
            "c7_75.jpg\n",
            "c7_76.jpg\n",
            "c7_83.jpg\n",
            "c8_101.jpg\n",
            "c8_104.jpg\n",
            "c8_115.jpg\n",
            "c8_128.jpg\n",
            "c8_131.jpg\n",
            "c8_135.jpg\n",
            "c8_144.jpg\n",
            "c8_15.jpg\n",
            "c8_18.jpg\n",
            "c8_21.jpg\n",
            "c8_24.jpg\n",
            "c8_25.jpg\n",
            "c8_28.jpg\n",
            "c8_42.jpg\n",
            "c8_43.jpg\n",
            "c8_58.jpg\n",
            "c8_64.jpg\n",
            "c8_8.jpg\n",
            "c8_92.jpg\n",
            "c9_106.jpg\n",
            "c9_112.jpg\n",
            "c9_136.jpg\n",
            "c9_145.jpg\n",
            "c9_22.jpg\n",
            "c9_32.jpg\n",
            "c9_37.jpg\n",
            "c9_40.jpg\n",
            "c9_50.jpg\n",
            "c9_52.jpg\n",
            "c9_57.jpg\n",
            "c9_74.jpg\n",
            "\n",
            "reading:\n"
          ],
          "name": "stdout"
        },
        {
          "output_type": "display_data",
          "data": {
            "text/html": [
              "<div style=\"display:flex;flex-direction:row;\"><span></span><progress style='margin:2px 4px;' max='150' value='150'></progress>100% 150/150 [00:00&lt;00:00, 1678.73it/s]</div>"
            ],
            "text/plain": [
              "<tqdm._fake_ipywidgets.HBox object>"
            ]
          },
          "metadata": {
            "tags": []
          }
        },
        {
          "output_type": "stream",
          "text": [
            "c10_139.jpg\n",
            "c10_30.jpg\n",
            "c10_41.jpg\n",
            "c11_108.jpg\n",
            "c11_56.jpg\n",
            "c11_95.jpg\n",
            "c12_113.jpg\n",
            "c12_119.jpg\n",
            "c12_133.jpg\n",
            "c13_121.jpg\n",
            "c13_78.jpg\n",
            "c14_11.jpg\n",
            "c14_148.jpg\n",
            "c14_37.jpg\n",
            "c14_38.jpg\n",
            "c14_71.jpg\n",
            "c15_123.jpg\n",
            "c15_140.jpg\n",
            "c15_7.jpg\n",
            "c15_74.jpg\n",
            "c16_0.jpg\n",
            "c16_132.jpg\n",
            "c16_6.jpg\n",
            "c17_17.jpg\n",
            "c18_130.jpg\n",
            "c18_145.jpg\n",
            "c18_33.jpg\n",
            "c19_135.jpg\n",
            "c1_51.jpg\n",
            "c1_84.jpg\n",
            "c1_88.jpg\n",
            "c1_94.jpg\n",
            "c20_109.jpg\n",
            "c21_114.jpg\n",
            "c21_19.jpg\n",
            "c21_67.jpg\n",
            "c21_96.jpg\n",
            "c22_120.jpg\n",
            "c22_128.jpg\n",
            "c22_15.jpg\n",
            "c22_23.jpg\n",
            "c22_42.jpg\n",
            "c22_9.jpg\n",
            "c23_22.jpg\n",
            "c23_98.jpg\n",
            "c24_79.jpg\n",
            "c24_86.jpg\n",
            "c25_104.jpg\n",
            "c25_107.jpg\n",
            "c25_16.jpg\n",
            "c25_31.jpg\n",
            "c25_40.jpg\n",
            "c25_45.jpg\n",
            "c25_52.jpg\n",
            "c26_102.jpg\n",
            "c26_24.jpg\n",
            "c26_5.jpg\n",
            "c27_44.jpg\n",
            "c27_69.jpg\n",
            "c28_125.jpg\n",
            "c28_47.jpg\n",
            "c29_60.jpg\n",
            "c2_83.jpg\n",
            "c30_13.jpg\n",
            "c30_136.jpg\n",
            "c30_28.jpg\n",
            "c30_50.jpg\n",
            "c31_101.jpg\n",
            "c31_49.jpg\n",
            "c32_127.jpg\n",
            "c32_137.jpg\n",
            "c32_53.jpg\n",
            "c33_117.jpg\n",
            "c34_103.jpg\n",
            "c34_144.jpg\n",
            "c34_65.jpg\n",
            "c35_116.jpg\n",
            "c35_77.jpg\n",
            "c35_80.jpg\n",
            "c36_122.jpg\n",
            "c36_147.jpg\n",
            "c36_18.jpg\n",
            "c37_10.jpg\n",
            "c37_2.jpg\n",
            "c37_4.jpg\n",
            "c37_66.jpg\n",
            "c38_34.jpg\n",
            "c38_54.jpg\n",
            "c38_58.jpg\n",
            "c39_138.jpg\n",
            "c39_14.jpg\n",
            "c39_142.jpg\n",
            "c39_149.jpg\n",
            "c39_72.jpg\n",
            "c3_20.jpg\n",
            "c3_76.jpg\n",
            "c3_89.jpg\n",
            "c40_131.jpg\n",
            "c40_70.jpg\n",
            "c41_1.jpg\n",
            "c41_143.jpg\n",
            "c41_21.jpg\n",
            "c41_27.jpg\n",
            "c41_85.jpg\n",
            "c42_115.jpg\n",
            "c42_32.jpg\n",
            "c42_81.jpg\n",
            "c43_106.jpg\n",
            "c43_110.jpg\n",
            "c43_126.jpg\n",
            "c43_29.jpg\n",
            "c43_36.jpg\n",
            "c43_62.jpg\n",
            "c44_105.jpg\n",
            "c44_111.jpg\n",
            "c44_12.jpg\n",
            "c44_134.jpg\n",
            "c45_146.jpg\n",
            "c45_43.jpg\n",
            "c46_3.jpg\n",
            "c46_61.jpg\n",
            "c46_68.jpg\n",
            "c46_82.jpg\n",
            "c47_100.jpg\n",
            "c47_124.jpg\n",
            "c47_64.jpg\n",
            "c47_87.jpg\n",
            "c47_92.jpg\n",
            "c48_25.jpg\n",
            "c48_63.jpg\n",
            "c48_75.jpg\n",
            "c49_91.jpg\n",
            "c4_57.jpg\n",
            "c4_93.jpg\n",
            "c4_97.jpg\n",
            "c50_141.jpg\n",
            "c51_129.jpg\n",
            "c51_35.jpg\n",
            "c51_99.jpg\n",
            "c5_73.jpg\n",
            "c5_8.jpg\n",
            "c5_90.jpg\n",
            "c6_46.jpg\n",
            "c6_59.jpg\n",
            "c7_48.jpg\n",
            "c8_26.jpg\n",
            "c8_55.jpg\n",
            "c9_112.jpg\n",
            "c9_118.jpg\n",
            "c9_39.jpg\n",
            "\n",
            "900\n"
          ],
          "name": "stdout"
        }
      ]
    },
    {
      "metadata": {
        "id": "BKsna5ASRTxl",
        "colab_type": "code",
        "outputId": "48da3288-6343-436b-cc93-58d51b16b7de",
        "colab": {
          "base_uri": "https://localhost:8080/",
          "height": 34
        }
      },
      "cell_type": "code",
      "source": [
        "list(images_train.keys())[:5]"
      ],
      "execution_count": 0,
      "outputs": [
        {
          "output_type": "execute_result",
          "data": {
            "text/plain": [
              "['bgr_0', 'bgr_0_d2', 'bgr_0_d3', 'bgr_1', 'bgr_10']"
            ]
          },
          "metadata": {
            "tags": []
          },
          "execution_count": 9
        }
      ]
    },
    {
      "metadata": {
        "id": "kblib31iO6S6",
        "colab_type": "code",
        "outputId": "1427fbcf-7340-4806-d287-11e1890ac5a5",
        "colab": {
          "base_uri": "https://localhost:8080/",
          "height": 5299
        }
      },
      "cell_type": "code",
      "source": [
        "images_test = read_all(\"kaggle_level_2\",key_prefix='')\n",
        "print(len(images_test))"
      ],
      "execution_count": 0,
      "outputs": [
        {
          "output_type": "stream",
          "text": [
            "reading:\n"
          ],
          "name": "stdout"
        },
        {
          "output_type": "display_data",
          "data": {
            "text/html": [
              "<div style=\"display:flex;flex-direction:row;\"><span></span><progress style='margin:2px 4px;' max='300' value='300'></progress>100% 300/300 [00:00&lt;00:00, 1630.71it/s]</div>"
            ],
            "text/plain": [
              "<tqdm._fake_ipywidgets.HBox object>"
            ]
          },
          "metadata": {
            "tags": []
          }
        },
        {
          "output_type": "stream",
          "text": [
            "0.jpg\n",
            "1.jpg\n",
            "10.jpg\n",
            "100.jpg\n",
            "101.jpg\n",
            "102.jpg\n",
            "103.jpg\n",
            "104.jpg\n",
            "105.jpg\n",
            "106.jpg\n",
            "107.jpg\n",
            "108.jpg\n",
            "109.jpg\n",
            "11.jpg\n",
            "110.jpg\n",
            "111.jpg\n",
            "112.jpg\n",
            "113.jpg\n",
            "114.jpg\n",
            "115.jpg\n",
            "116.jpg\n",
            "117.jpg\n",
            "118.jpg\n",
            "119.jpg\n",
            "12.jpg\n",
            "120.jpg\n",
            "121.jpg\n",
            "122.jpg\n",
            "123.jpg\n",
            "124.jpg\n",
            "125.jpg\n",
            "126.jpg\n",
            "127.jpg\n",
            "128.jpg\n",
            "129.jpg\n",
            "13.jpg\n",
            "130.jpg\n",
            "131.jpg\n",
            "132.jpg\n",
            "133.jpg\n",
            "134.jpg\n",
            "135.jpg\n",
            "136.jpg\n",
            "137.jpg\n",
            "138.jpg\n",
            "139.jpg\n",
            "14.jpg\n",
            "140.jpg\n",
            "141.jpg\n",
            "142.jpg\n",
            "143.jpg\n",
            "144.jpg\n",
            "145.jpg\n",
            "146.jpg\n",
            "147.jpg\n",
            "148.jpg\n",
            "149.jpg\n",
            "15.jpg\n",
            "150.jpg\n",
            "151.jpg\n",
            "152.jpg\n",
            "153.jpg\n",
            "154.jpg\n",
            "155.jpg\n",
            "156.jpg\n",
            "157.jpg\n",
            "158.jpg\n",
            "159.jpg\n",
            "16.jpg\n",
            "160.jpg\n",
            "161.jpg\n",
            "162.jpg\n",
            "163.jpg\n",
            "164.jpg\n",
            "165.jpg\n",
            "166.jpg\n",
            "167.jpg\n",
            "168.jpg\n",
            "169.jpg\n",
            "17.jpg\n",
            "170.jpg\n",
            "171.jpg\n",
            "172.jpg\n",
            "173.jpg\n",
            "174.jpg\n",
            "175.jpg\n",
            "176.jpg\n",
            "177.jpg\n",
            "178.jpg\n",
            "179.jpg\n",
            "18.jpg\n",
            "180.jpg\n",
            "181.jpg\n",
            "182.jpg\n",
            "183.jpg\n",
            "184.jpg\n",
            "185.jpg\n",
            "186.jpg\n",
            "187.jpg\n",
            "188.jpg\n",
            "189.jpg\n",
            "19.jpg\n",
            "190.jpg\n",
            "191.jpg\n",
            "192.jpg\n",
            "193.jpg\n",
            "194.jpg\n",
            "195.jpg\n",
            "196.jpg\n",
            "197.jpg\n",
            "198.jpg\n",
            "199.jpg\n",
            "2.jpg\n",
            "20.jpg\n",
            "200.jpg\n",
            "201.jpg\n",
            "202.jpg\n",
            "203.jpg\n",
            "204.jpg\n",
            "205.jpg\n",
            "206.jpg\n",
            "207.jpg\n",
            "208.jpg\n",
            "209.jpg\n",
            "21.jpg\n",
            "210.jpg\n",
            "211.jpg\n",
            "212.jpg\n",
            "213.jpg\n",
            "214.jpg\n",
            "215.jpg\n",
            "216.jpg\n",
            "217.jpg\n",
            "218.jpg\n",
            "219.jpg\n",
            "22.jpg\n",
            "220.jpg\n",
            "221.jpg\n",
            "222.jpg\n",
            "223.jpg\n",
            "224.jpg\n",
            "225.jpg\n",
            "226.jpg\n",
            "227.jpg\n",
            "228.jpg\n",
            "229.jpg\n",
            "23.jpg\n",
            "230.jpg\n",
            "231.jpg\n",
            "232.jpg\n",
            "233.jpg\n",
            "234.jpg\n",
            "235.jpg\n",
            "236.jpg\n",
            "237.jpg\n",
            "238.jpg\n",
            "239.jpg\n",
            "24.jpg\n",
            "240.jpg\n",
            "241.jpg\n",
            "242.jpg\n",
            "243.jpg\n",
            "244.jpg\n",
            "245.jpg\n",
            "246.jpg\n",
            "247.jpg\n",
            "248.jpg\n",
            "249.jpg\n",
            "25.jpg\n",
            "250.jpg\n",
            "251.jpg\n",
            "252.jpg\n",
            "253.jpg\n",
            "254.jpg\n",
            "255.jpg\n",
            "256.jpg\n",
            "257.jpg\n",
            "258.jpg\n",
            "259.jpg\n",
            "26.jpg\n",
            "260.jpg\n",
            "261.jpg\n",
            "262.jpg\n",
            "263.jpg\n",
            "264.jpg\n",
            "265.jpg\n",
            "266.jpg\n",
            "267.jpg\n",
            "268.jpg\n",
            "269.jpg\n",
            "27.jpg\n",
            "270.jpg\n",
            "271.jpg\n",
            "272.jpg\n",
            "273.jpg\n",
            "274.jpg\n",
            "275.jpg\n",
            "276.jpg\n",
            "277.jpg\n",
            "278.jpg\n",
            "279.jpg\n",
            "28.jpg\n",
            "280.jpg\n",
            "281.jpg\n",
            "282.jpg\n",
            "283.jpg\n",
            "284.jpg\n",
            "285.jpg\n",
            "286.jpg\n",
            "287.jpg\n",
            "288.jpg\n",
            "289.jpg\n",
            "29.jpg\n",
            "290.jpg\n",
            "291.jpg\n",
            "292.jpg\n",
            "293.jpg\n",
            "294.jpg\n",
            "295.jpg\n",
            "296.jpg\n",
            "297.jpg\n",
            "298.jpg\n",
            "299.jpg\n",
            "3.jpg\n",
            "30.jpg\n",
            "31.jpg\n",
            "32.jpg\n",
            "33.jpg\n",
            "34.jpg\n",
            "35.jpg\n",
            "36.jpg\n",
            "37.jpg\n",
            "38.jpg\n",
            "39.jpg\n",
            "4.jpg\n",
            "40.jpg\n",
            "41.jpg\n",
            "42.jpg\n",
            "43.jpg\n",
            "44.jpg\n",
            "45.jpg\n",
            "46.jpg\n",
            "47.jpg\n",
            "48.jpg\n",
            "49.jpg\n",
            "5.jpg\n",
            "50.jpg\n",
            "51.jpg\n",
            "52.jpg\n",
            "53.jpg\n",
            "54.jpg\n",
            "55.jpg\n",
            "56.jpg\n",
            "57.jpg\n",
            "58.jpg\n",
            "59.jpg\n",
            "6.jpg\n",
            "60.jpg\n",
            "61.jpg\n",
            "62.jpg\n",
            "63.jpg\n",
            "64.jpg\n",
            "65.jpg\n",
            "66.jpg\n",
            "67.jpg\n",
            "68.jpg\n",
            "69.jpg\n",
            "7.jpg\n",
            "70.jpg\n",
            "71.jpg\n",
            "72.jpg\n",
            "73.jpg\n",
            "74.jpg\n",
            "75.jpg\n",
            "76.jpg\n",
            "77.jpg\n",
            "78.jpg\n",
            "79.jpg\n",
            "8.jpg\n",
            "80.jpg\n",
            "81.jpg\n",
            "82.jpg\n",
            "83.jpg\n",
            "84.jpg\n",
            "85.jpg\n",
            "86.jpg\n",
            "87.jpg\n",
            "88.jpg\n",
            "89.jpg\n",
            "9.jpg\n",
            "90.jpg\n",
            "91.jpg\n",
            "92.jpg\n",
            "93.jpg\n",
            "94.jpg\n",
            "95.jpg\n",
            "96.jpg\n",
            "97.jpg\n",
            "98.jpg\n",
            "99.jpg\n",
            "\n",
            "300\n"
          ],
          "name": "stdout"
        }
      ]
    },
    {
      "metadata": {
        "id": "bfZCG2hkPMNB",
        "colab_type": "code",
        "outputId": "5cf45341-2d66-4e29-8e7d-baaaa53bbe9c",
        "colab": {
          "base_uri": "https://localhost:8080/",
          "height": 34
        }
      },
      "cell_type": "code",
      "source": [
        "list(images_test.keys())[:5]"
      ],
      "execution_count": 0,
      "outputs": [
        {
          "output_type": "execute_result",
          "data": {
            "text/plain": [
              "['0', '1', '10', '100', '101']"
            ]
          },
          "metadata": {
            "tags": []
          },
          "execution_count": 11
        }
      ]
    },
    {
      "metadata": {
        "id": "JRPjth4ePSbV",
        "colab_type": "code",
        "colab": {}
      },
      "cell_type": "code",
      "source": [
        "X_train=[]\n",
        "Y_train=[]\n",
        "\n",
        "for key,value in images_train.items():\n",
        "  \n",
        "  X_train.append(value)\n",
        "  if key[:4] == \"bgr_\" :   # creating Output\n",
        "    Y_train.append(0)            # set y=0 if its a blank image( bgr images are all blank)\n",
        "  else:\n",
        "    Y_train.append(1)\n",
        "\n",
        "ID_test = []\n",
        "X_test = []\n",
        "\n",
        "for key,values in images_test.items():\n",
        "    \n",
        "  ID_test.append(int(key))\n",
        "  print(key)\n",
        "  X_test.append(values)\n",
        "  \n",
        "X_train = np.array(X_train)\n",
        "Y_train = np.array(Y_train)\n",
        "\n",
        "X_test = np.array(X_test)\n",
        "\n",
        "print(X_train.shape,Y_train.shape)   #(900, 256) (900,)\n",
        "print(X_test.shape)   #(300, 256)    why 256?  see Understand 3"
      ],
      "execution_count": 0,
      "outputs": []
    },
    {
      "metadata": {
        "id": "4Ahw-DWobsSI",
        "colab_type": "text"
      },
      "cell_type": "markdown",
      "source": [
        "Understand 3\n",
        "\n",
        "Each primary color gets 8 bits, or one byte, in the color representation to describe how much of it there is in the color.\n",
        "\n",
        "8 bits or one byte can store a number between 0 and 255, and no more than that. 255 is the largest number you can store in 8 bits. represented as 11111111 binary or FF hexadecimal."
      ]
    },
    {
      "metadata": {
        "id": "ZnoMK0Exb26E",
        "colab_type": "text"
      },
      "cell_type": "markdown",
      "source": [
        "-----------------------------------------------------------------------------------------------------------------------"
      ]
    },
    {
      "metadata": {
        "id": "KDnUBnOLZcas",
        "colab_type": "code",
        "outputId": "c0946583-774a-487e-f0cb-5b624865c237",
        "colab": {
          "base_uri": "https://localhost:8080/",
          "height": 139
        }
      },
      "cell_type": "code",
      "source": [
        "print(X_train)"
      ],
      "execution_count": 0,
      "outputs": [
        {
          "output_type": "stream",
          "text": [
            "[[247  64  51 ... 118 124  81]\n",
            " [247  64  51 ... 118 124  81]\n",
            " [247  64  51 ... 118 124  81]\n",
            " ...\n",
            " [255 251 255 ... 255 255 255]\n",
            " [255 241 255 ... 255 255 255]\n",
            " [253 242 255 ... 255 255 255]]\n"
          ],
          "name": "stdout"
        }
      ]
    },
    {
      "metadata": {
        "id": "o2Bhv9tyufBi",
        "colab_type": "code",
        "outputId": "d47ad0e6-eaa7-41eb-b1b0-0ea5f7134f4d",
        "colab": {
          "base_uri": "https://localhost:8080/",
          "height": 139
        }
      },
      "cell_type": "code",
      "source": [
        "print(X_test)"
      ],
      "execution_count": 0,
      "outputs": [
        {
          "output_type": "stream",
          "text": [
            "[[238 255  61 ... 255 229 254]\n",
            " [254 172 187 ...  12 220 134]\n",
            " [253 255  46 ... 255 254 243]\n",
            " ...\n",
            " [232  57 137 ... 102  75  17]\n",
            " [112 120 173 ... 148 255  55]\n",
            " [255 251 250 ... 227 244 255]]\n"
          ],
          "name": "stdout"
        }
      ]
    },
    {
      "metadata": {
        "id": "iWyPmnsRcMRb",
        "colab_type": "text"
      },
      "cell_type": "markdown",
      "source": [
        "# Standardization"
      ]
    },
    {
      "metadata": {
        "id": "k0K7a3WscUxV",
        "colab_type": "code",
        "colab": {}
      },
      "cell_type": "code",
      "source": [
        "from sklearn.preprocessing import StandardScaler  #Scaler  not scalar\n"
      ],
      "execution_count": 0,
      "outputs": []
    },
    {
      "metadata": {
        "id": "5z3tYPZTcITz",
        "colab_type": "text"
      },
      "cell_type": "markdown",
      "source": [
        "scaler = StandardScaler()\n",
        "X_scaled_train = scaler.fit_transform(X_train)\n",
        "X_scaled_test = scaler.transform(X_test)"
      ]
    },
    {
      "metadata": {
        "id": "-QeWFAEwcJT4",
        "colab_type": "code",
        "colab": {}
      },
      "cell_type": "code",
      "source": [
        "scaler = StandardScaler()"
      ],
      "execution_count": 0,
      "outputs": []
    },
    {
      "metadata": {
        "id": "J2z8Se9hdNas",
        "colab_type": "code",
        "outputId": "f56948b8-c6e3-4fab-fdbb-5e5f33fac98d",
        "colab": {
          "base_uri": "https://localhost:8080/",
          "height": 106
        }
      },
      "cell_type": "code",
      "source": [
        "X_train_scaled = scaler.fit_transform(X_train)\n"
      ],
      "execution_count": 0,
      "outputs": [
        {
          "output_type": "stream",
          "text": [
            "/usr/local/lib/python3.6/dist-packages/sklearn/utils/validation.py:595: DataConversionWarning: Data with input dtype uint8 was converted to float64 by StandardScaler.\n",
            "  warnings.warn(msg, DataConversionWarning)\n",
            "/usr/local/lib/python3.6/dist-packages/sklearn/utils/validation.py:595: DataConversionWarning: Data with input dtype uint8 was converted to float64 by StandardScaler.\n",
            "  warnings.warn(msg, DataConversionWarning)\n"
          ],
          "name": "stderr"
        }
      ]
    },
    {
      "metadata": {
        "id": "4nA8W4ydptzv",
        "colab_type": "code",
        "outputId": "0c585fe5-b519-4ec5-b1f2-d463b3db4f7c",
        "colab": {
          "base_uri": "https://localhost:8080/",
          "height": 72
        }
      },
      "cell_type": "code",
      "source": [
        "X_test_scaled = scaler.transform(X_test)"
      ],
      "execution_count": 0,
      "outputs": [
        {
          "output_type": "stream",
          "text": [
            "/usr/local/lib/python3.6/dist-packages/sklearn/utils/validation.py:595: DataConversionWarning: Data with input dtype uint8 was converted to float64 by StandardScaler.\n",
            "  warnings.warn(msg, DataConversionWarning)\n"
          ],
          "name": "stderr"
        }
      ]
    },
    {
      "metadata": {
        "id": "2QNlSlOed5gr",
        "colab_type": "code",
        "outputId": "43f34931-513f-42c2-9911-b5ddd244549e",
        "colab": {
          "base_uri": "https://localhost:8080/",
          "height": 243
        }
      },
      "cell_type": "code",
      "source": [
        "print(X_train_scaled)    #values got scaled to 0-1"
      ],
      "execution_count": 0,
      "outputs": [
        {
          "output_type": "stream",
          "text": [
            "[[ 0.72618722 -1.26566595 -1.47279991 ... -0.80809434 -0.69832135\n",
            "  -1.42401119]\n",
            " [ 0.72618722 -1.26566595 -1.47279991 ... -0.80809434 -0.69832135\n",
            "  -1.42401119]\n",
            " [ 0.72618722 -1.26566595 -1.47279991 ... -0.80809434 -0.69832135\n",
            "  -1.42401119]\n",
            " ...\n",
            " [ 0.81973289  0.85414755  0.92246338 ...  0.85761996  0.85140077\n",
            "   0.80382933]\n",
            " [ 0.81973289  0.74078854  0.92246338 ...  0.85761996  0.85140077\n",
            "   0.80382933]\n",
            " [ 0.79634647  0.75212444  0.92246338 ...  0.85761996  0.85140077\n",
            "   0.80382933]]\n"
          ],
          "name": "stdout"
        }
      ]
    },
    {
      "metadata": {
        "id": "zXhKDG6TebjM",
        "colab_type": "code",
        "outputId": "7967224d-f67d-4dc2-e12c-9e7ce9129639",
        "colab": {
          "base_uri": "https://localhost:8080/",
          "height": 243
        }
      },
      "cell_type": "code",
      "source": [
        "print(X_test_scaled)"
      ],
      "execution_count": 0,
      "outputs": [
        {
          "output_type": "stream",
          "text": [
            "[[ 0.62094835  0.89949115 -1.35538504 ...  0.85761996  0.54382233\n",
            "   0.79102565]\n",
            " [ 0.80803968 -0.04138863  0.12404228 ... -2.09689518  0.43735287\n",
            "  -0.74541609]\n",
            " [ 0.79634647  0.89949115 -1.53150734 ...  0.85761996  0.83957083\n",
            "   0.65018515]\n",
            " ...\n",
            " [ 0.5507891  -1.34501726 -0.46303205 ... -1.00263031 -1.27798839\n",
            "  -2.24344678]\n",
            " [-0.85239592 -0.63085549 -0.04033853 ... -0.44333938  0.85140077\n",
            "  -1.7569069 ]\n",
            " [ 0.81973289  0.85414755  0.86375595 ...  0.517182    0.72127143\n",
            "   0.80382933]]\n"
          ],
          "name": "stdout"
        }
      ]
    },
    {
      "metadata": {
        "id": "TKUo6KRTkXQ4",
        "colab_type": "text"
      },
      "cell_type": "markdown",
      "source": [
        "# Sigmoid apply algorithm"
      ]
    },
    {
      "metadata": {
        "id": "z6ZhtWdjkcb_",
        "colab_type": "code",
        "colab": {}
      },
      "cell_type": "code",
      "source": [
        " \n",
        "class SigmoidNeuron:\n",
        "  \n",
        "  def __init__(self):\n",
        "    self.w = None\n",
        "    self.b = None\n",
        "\n",
        "\n",
        "  def grad_w_mse(self, x,y):\n",
        "    y_pred = self.sigmoid(x)\n",
        "    #print(y_pred)\n",
        "    return (y_pred - y) * y_pred * (1 - y_pred) * x\n",
        "  \n",
        "  \n",
        "  def grad_w_ce(self,x,y):\n",
        "    y_pred = self.sigmoid(x)\n",
        "    return (y_pred - y) * x\n",
        "\n",
        "\n",
        "  def grad_b_mse(self,x,y):\n",
        "    y_pred = self.sigmoid(x)\n",
        "    return (y_pred - y) * y_pred * (1 - y_pred)  \n",
        " \n",
        "\n",
        "  def grad_b_ce(self,x,y):\n",
        "    y_pred = self.sigmoid(x)\n",
        "    return (y_pred - y)\n",
        "\n",
        "  def fit(self,X,Y, epochs=1, eta=1,loss_fn = \"mse\"):\n",
        "    print(\"again\")\n",
        "    self.w=np.zeros(X.shape[1])\n",
        "    self.b=0\n",
        "    loss={}\n",
        "\n",
        "    for i in tqdm_notebook(range(epochs), total=epochs, unit=\"epoch\"):\n",
        "      dw=0\n",
        "      db=0\n",
        "      for x,y in zip(X,Y):\n",
        "        if loss_fn==\"mse\":\n",
        "          dw += self.grad_w_mse(x,y)\n",
        "          db += self.grad_b_mse(x,y)\n",
        "        \n",
        "        elif loss_fn==\"ce\":\n",
        "          dw += self.grad_w_ce(x,y)\n",
        "          db += self.grad_b_ce(x,y)\n",
        "        \n",
        "\n",
        "      self.w = self.w - eta*dw\n",
        "      self.b = self.b - eta*db\n",
        "      y_pred=self.sigmoid(X)\n",
        "      \n",
        "      if loss_fn == \"mse\":\n",
        "        loss[i] = self.compute_loss_mse(Y,y_pred)\n",
        "        if i==500 or i==600 or i==700 or i==800 or i==900 or i==1000 or i==1499 or i==1999 or i==2500 or i==3000 or i==3500 or i==3999 or i==4500 or i==4999 or i==5500 or i==5999 or i==6500 or i==6999 or i==7500 or i==7999 or i==8500 or i==8999 or i==9500 or i==9999:\n",
        "          print(i, loss[i])\n",
        "\n",
        "      elif loss_fn == \"ce\":\n",
        "        loss[i] = self.compute_loss_ce(Y,y_pred)\n",
        "        #print(\"here\")\n",
        "        if i==500 or i==600 or i==700 or i==800 or i==900 or i==1000 or i==1499 or i==1999 or i==2500 or i==3000 or i==3500 or i==3999 or i==4500 or i==4999 or i==5500 or i==5999 or i==6500 or i==6999 or i==7500 or i==7999 or i==8500 or i==8999 or i==9500 or i==9999:\n",
        "          print(i, loss[i])\n",
        "          \n",
        "        #else:\n",
        "         # print(\"did not reach 500 or 1000\")\n",
        "\n",
        "    plt.plot(loss.values(),'*')\n",
        "    plt.xlabel('Epochs')\n",
        "    plt.ylabel('Loss')\n",
        "    plt.show()\n",
        "    return self.w,self.b\n",
        "\n",
        "\n",
        "  def sigmoid(self,X):\n",
        "    return 1/(1 + np.exp(-(np.dot(X,self.w.T) + self.b)))\n",
        "\n",
        "\n",
        "  def compute_loss_mse(self,Y,Y_pred):\n",
        "    loss=0\n",
        "    for y,yp in zip(Y,Y_pred):\n",
        "      loss += np.power((y-yp),2)\n",
        "    return loss/len(Y)\n",
        "\n",
        "  def compute_loss_ce(self,Y,Y_pred):\n",
        "    loss = 0\n",
        "    for y,yp in zip(Y,Y_pred):\n",
        "      loss += -1 * y * np.math.log(yp,2)\n",
        "    return loss"
      ],
      "execution_count": 0,
      "outputs": []
    },
    {
      "metadata": {
        "id": "qFiXCQ_nxPyT",
        "colab_type": "code",
        "colab": {}
      },
      "cell_type": "code",
      "source": [
        "sn = SigmoidNeuron()\n"
      ],
      "execution_count": 0,
      "outputs": []
    },
    {
      "metadata": {
        "id": "WVTv_CQokeEN",
        "colab_type": "code",
        "outputId": "031539fb-6941-4781-aeed-43613af76d37",
        "colab": {
          "base_uri": "https://localhost:8080/",
          "height": 816
        }
      },
      "cell_type": "code",
      "source": [
        "w,b = sn.fit(X_train_scaled,Y_train,epochs = 10001,eta = 0.01)"
      ],
      "execution_count": 0,
      "outputs": [
        {
          "output_type": "stream",
          "text": [
            "again\n"
          ],
          "name": "stdout"
        },
        {
          "output_type": "display_data",
          "data": {
            "text/html": [
              "<div style=\"display:flex;flex-direction:row;\"><span></span><progress style='margin:2px 4px;' max='10001' value='10001'></progress>100% 10001/10001 [04:28&lt;00:00, 37.20epoch/s]</div>"
            ],
            "text/plain": [
              "<tqdm._fake_ipywidgets.HBox object>"
            ]
          },
          "metadata": {
            "tags": []
          }
        },
        {
          "output_type": "stream",
          "text": [
            "500 0.008895912929986007\n",
            "600 0.008890644316709868\n",
            "700 0.008885181014219682\n",
            "800 0.008816756259144812\n",
            "900 0.006777219251962602\n",
            "1000 0.005568353584707844\n",
            "1499 0.005557965506103465\n",
            "1999 0.005556956756723396\n",
            "2500 0.005556557127216764\n",
            "3000 0.005556340489454548\n",
            "3500 0.0055562033167614764\n",
            "3999 0.005556108415112726\n",
            "4500 0.005556038312106293\n",
            "4999 0.005555984707067695\n",
            "5500 0.0055559420437003865\n",
            "5999 0.00555590751253683\n",
            "6500 0.005555878770669628\n",
            "6999 0.005555854647784005\n",
            "7500 0.005555833957681875\n",
            "7999 0.005555816148318897\n",
            "8500 0.005555800540212207\n",
            "8999 0.005555786852201194\n",
            "9500 0.0055557746588163655\n",
            "9999 0.005555763810458196\n"
          ],
          "name": "stdout"
        },
        {
          "output_type": "display_data",
          "data": {
            "image/png": "[encoded data removed]",
            "text/plain": [
              "<Figure size 576x396 with 1 Axes>"
            ]
          },
          "metadata": {
            "tags": []
          }
        }
      ]
    },
    {
      "metadata": {
        "id": "aU1iF4ai48aT",
        "colab_type": "code",
        "colab": {}
      },
      "cell_type": "code",
      "source": [
        "w,b = sn.fit(X_train_scaled,Y_train,epochs = 10001,eta = 0.01,loss_fn = \"ce\")"
      ],
      "execution_count": 0,
      "outputs": []
    },
    {
      "metadata": {
        "id": "UAo0bkcwq2r5",
        "colab_type": "code",
        "colab": {}
      },
      "cell_type": "code",
      "source": [
        "print(Y_train)"
      ],
      "execution_count": 0,
      "outputs": []
    },
    {
      "metadata": {
        "id": "FBCxY9-RktwQ",
        "colab_type": "code",
        "colab": {}
      },
      "cell_type": "code",
      "source": [
        "Y_pred=[]\n",
        "print(w,b)\n",
        "for x in X_train_scaled:\n",
        "  Y_pred.append(sn.sigmoid(x))"
      ],
      "execution_count": 0,
      "outputs": []
    },
    {
      "metadata": {
        "id": "7djDmBzWqVJ9",
        "colab_type": "code",
        "colab": {}
      },
      "cell_type": "code",
      "source": [
        "y_pred = np.array(Y_pred)\n",
        "print(y_pred)"
      ],
      "execution_count": 0,
      "outputs": []
    },
    {
      "metadata": {
        "id": "qjdE9Cb_rfG0",
        "colab_type": "code",
        "colab": {}
      },
      "cell_type": "code",
      "source": [
        "print(X_test_scaled)"
      ],
      "execution_count": 0,
      "outputs": []
    },
    {
      "metadata": {
        "id": "nouFyLafrnGK",
        "colab_type": "code",
        "colab": {}
      },
      "cell_type": "code",
      "source": [
        "Y_pred_test=[]\n",
        "#print(w,b)\n",
        "for x in X_test_scaled:\n",
        "  #print(x)\n",
        "  Y_pred_test.append(sn.sigmoid(x))\n",
        "\n",
        "Y_pred_test = np.array(Y_pred_test)\n",
        "print(Y_pred_test)"
      ],
      "execution_count": 0,
      "outputs": []
    },
    {
      "metadata": {
        "id": "eyJOFo-9wF6_",
        "colab_type": "code",
        "colab": {}
      },
      "cell_type": "code",
      "source": [
        "Y_pred_test_binarised = list(map( lambda y: 0 if y<0.5 else 1, Y_pred_test))"
      ],
      "execution_count": 0,
      "outputs": []
    },
    {
      "metadata": {
        "id": "DjAokfRTwbTy",
        "colab_type": "code",
        "outputId": "5c66dd69-731b-40aa-c43c-c235aedb87ea",
        "colab": {
          "base_uri": "https://localhost:8080/",
          "height": 54
        }
      },
      "cell_type": "code",
      "source": [
        "print(Y_pred_test_binarised)"
      ],
      "execution_count": 0,
      "outputs": [
        {
          "output_type": "stream",
          "text": [
            "[1, 0, 0, 0, 1, 1, 1, 0, 0, 0, 1, 0, 0, 1, 0, 1, 1, 0, 0, 1, 1, 0, 1, 1, 1, 1, 0, 1, 0, 1, 0, 1, 0, 0, 0, 0, 1, 1, 1, 0, 0, 0, 1, 0, 1, 0, 1, 0, 1, 0, 1, 0, 1, 0, 1, 1, 0, 0, 0, 0, 0, 0, 1, 0, 0, 0, 1, 0, 0, 1, 1, 0, 0, 1, 1, 0, 1, 0, 1, 0, 0, 0, 1, 1, 0, 1, 1, 0, 0, 1, 1, 1, 1, 0, 0, 0, 1, 0, 0, 1, 0, 1, 1, 1, 1, 1, 0, 1, 1, 0, 1, 0, 0, 0, 0, 0, 1, 1, 0, 1, 0, 0, 0, 1, 1, 0, 0, 1, 1, 0, 1, 1, 1, 1, 1, 0, 0, 1, 1, 0, 0, 0, 0, 0, 1, 0, 1, 0, 0, 1, 0, 0, 0, 0, 0, 1, 1, 1, 1, 0, 0, 0, 1, 0, 1, 1, 1, 1, 1, 0, 1, 0, 0, 0, 1, 0, 1, 0, 1, 0, 1, 0, 1, 1, 0, 0, 0, 1, 1, 0, 0, 0, 1, 0, 0, 0, 0, 1, 1, 1, 0, 0, 1, 0, 0, 0, 1, 0, 1, 1, 1, 0, 1, 1, 0, 1, 1, 1, 1, 0, 0, 0, 1, 1, 1, 0, 1, 1, 1, 1, 0, 0, 1, 1, 0, 0, 1, 1, 0, 0, 0, 1, 1, 0, 0, 1, 0, 0, 0, 1, 1, 1, 1, 1, 1, 1, 0, 1, 0, 0, 1, 1, 1, 0, 0, 1, 0, 1, 0, 1, 1, 1, 1, 0, 0, 0, 0, 0, 0, 1, 0, 1, 0, 0, 0, 0, 1, 1, 0, 1, 1, 0, 0, 1, 1, 0, 0, 0, 0, 1]\n"
          ],
          "name": "stdout"
        }
      ]
    },
    {
      "metadata": {
        "id": "0tXXZz7FuCqn",
        "colab_type": "text"
      },
      "cell_type": "markdown",
      "source": [
        "def print_accuracy(sn):\n",
        "\n",
        "  Y_pred_train = sn.predict(X_scaled_train)\n",
        "\n",
        "Y_pred_binarised_train = (Y_pred_train >= 0.5).astype(\"int\").ravel()\n",
        "\n",
        "accuracy_train = accuracy_score(Y_pred_binarised_train, Y_train)\n",
        "\n",
        "print(\"Train Accuracy : \", accuracy_train)\n",
        "\n",
        "print(\"-\"*50)"
      ]
    },
    {
      "metadata": {
        "id": "mDY2PIQ6uDTV",
        "colab_type": "code",
        "colab": {}
      },
      "cell_type": "code",
      "source": [
        "def print_accuracy(X):\n",
        "  Y_pred_train = sn.sigmoid(X)\n",
        "  \n",
        "  Y_pred_binarised_train = list(map( lambda y:0 if y<0.5 else 1, Y_pred_train))\n",
        "  \n",
        "  accuracy_train = accuracy_score(Y_pred_binarised_train, Y_train)\n",
        "  print(\"Train Accuracy :\",accuracy_train)"
      ],
      "execution_count": 0,
      "outputs": []
    },
    {
      "metadata": {
        "id": "pTK0TWWjzZuh",
        "colab_type": "code",
        "outputId": "9a9060a6-1f0e-4851-85e6-ecbf5f0968f3",
        "colab": {
          "base_uri": "https://localhost:8080/",
          "height": 34
        }
      },
      "cell_type": "code",
      "source": [
        "print_accuracy(X_train_scaled)"
      ],
      "execution_count": 0,
      "outputs": [
        {
          "output_type": "stream",
          "text": [
            "Train Accuracy : 1.0\n"
          ],
          "name": "stdout"
        }
      ]
    },
    {
      "metadata": {
        "id": "R7ntudmn6FBJ",
        "colab_type": "code",
        "outputId": "4b3d6602-82ec-4636-ed5b-26dfb474a04f",
        "colab": {
          "base_uri": "https://localhost:8080/",
          "height": 34
        }
      },
      "cell_type": "code",
      "source": [
        "print_accuracy(X_train_scaled)"
      ],
      "execution_count": 0,
      "outputs": [
        {
          "output_type": "stream",
          "text": [
            "Train Accuracy : 1.0\n"
          ],
          "name": "stdout"
        }
      ]
    },
    {
      "metadata": {
        "id": "WnLQ4Vbv6PMA",
        "colab_type": "text"
      },
      "cell_type": "markdown",
      "source": [
        "Y_pred_test = sn_ce.predict(X_scaled_test)\n",
        "\n",
        "Y_pred_binarised_test = (Y_pred_test >= 0.5).astype(\"int\").ravel()\n",
        "\n",
        "\n",
        "submission = {}\n",
        "\n",
        "submission['ImageId'] = ID_test\n",
        "\n",
        "submission['Class'] = Y_pred_binarised_test\n",
        "\n",
        "\n",
        "submission = pd.DataFrame(submission)\n",
        "\n",
        "submission = submission[['ImageId', 'Class']]\n",
        "\n",
        "submission = submission.sort_values(['ImageId'])\n",
        "\n",
        "submission.to_csv(\"submisision.csv\", index=False)"
      ]
    },
    {
      "metadata": {
        "id": "xVObU2Lc6Ogg",
        "colab_type": "code",
        "colab": {}
      },
      "cell_type": "code",
      "source": [
        "submission = {}\n",
        "submission['ImageId'] = ID_test\n",
        "submission['Class'] = Y_pred_test_binarised\n",
        "submission = pd.DataFrame(submission)\n",
        "submission = submission[['ImageId','Class']]\n",
        "submission.to_csv(\"submission_Sigmoid_Text_NonText_2_first.csv\",index=False)\n",
        "#print(submission)"
      ],
      "execution_count": 0,
      "outputs": []
    },
    {
      "metadata": {
        "id": "0sxXiWjrQuY6",
        "colab_type": "text"
      },
      "cell_type": "markdown",
      "source": [
        "# MPNeuron"
      ]
    },
    {
      "metadata": {
        "id": "DacY0m0qROsm",
        "colab_type": "code",
        "colab": {}
      },
      "cell_type": "code",
      "source": [
        "import pandas as pd"
      ],
      "execution_count": 0,
      "outputs": []
    },
    {
      "metadata": {
        "id": "rzhv_VPvRezO",
        "colab_type": "code",
        "colab": {}
      },
      "cell_type": "code",
      "source": [
        "X_train_df=pd.DataFrame(X_train)\n"
      ],
      "execution_count": 0,
      "outputs": []
    },
    {
      "metadata": {
        "id": "FZdPs9ucQv9X",
        "colab_type": "code",
        "colab": {}
      },
      "cell_type": "code",
      "source": [
        "X_train_binarised_df = X_train_df.apply(pd.cut, bins=2, labels=[1,0])\n",
        "Y_train_binarised = Y_train     # y is already binarised"
      ],
      "execution_count": 0,
      "outputs": []
    },
    {
      "metadata": {
        "id": "RuM8vKtdUwhv",
        "colab_type": "code",
        "colab": {}
      },
      "cell_type": "code",
      "source": [
        "print(X_train_binarised_df)"
      ],
      "execution_count": 0,
      "outputs": []
    },
    {
      "metadata": {
        "id": "l7SyNcdpR5nP",
        "colab_type": "code",
        "colab": {}
      },
      "cell_type": "code",
      "source": [
        "X_train_binarised = np.array(X_train_binarised_df)\n",
        "# y is already an array"
      ],
      "execution_count": 0,
      "outputs": []
    },
    {
      "metadata": {
        "id": "gQLyrKhIUkcT",
        "colab_type": "code",
        "outputId": "c46aecc3-622d-4f13-d8d4-e76bef3a5ffe",
        "colab": {
          "base_uri": "https://localhost:8080/",
          "height": 139
        }
      },
      "cell_type": "code",
      "source": [
        "print(X_train_binarised)"
      ],
      "execution_count": 0,
      "outputs": [
        {
          "output_type": "stream",
          "text": [
            "[[0 1 1 ... 1 1 1]\n",
            " [0 1 1 ... 1 1 1]\n",
            " [0 1 1 ... 1 1 1]\n",
            " ...\n",
            " [0 0 0 ... 0 0 0]\n",
            " [0 0 0 ... 0 0 0]\n",
            " [0 0 0 ... 0 0 0]]\n"
          ],
          "name": "stdout"
        }
      ]
    },
    {
      "metadata": {
        "id": "0srJEdAhS32q",
        "colab_type": "code",
        "colab": {}
      },
      "cell_type": "code",
      "source": [
        "b=0\n",
        "max_accuracy=0\n",
        "for i in range(X_train_binarised.shape[1]+1):\n",
        "  accurate_rows=0\n",
        "  for x,y in zip(X_train_binarised,Y_train_binarised):\n",
        "    y_pred=(np.sum(x)>=i)\n",
        "    if y_pred == y:\n",
        "      accurate_rows+=1\n",
        "  accuracy=(accurate_rows/X_train_binarised.shape[0])\n",
        "  print(i,accuracy)\n",
        "\n",
        "  #print(accuracy)\n",
        "  if accuracy>max_accuracy:\n",
        "    max_accuracy=accuracy\n",
        "    b=i\n",
        "    \n",
        "print(b, max_accuracy)"
      ],
      "execution_count": 0,
      "outputs": []
    },
    {
      "metadata": {
        "id": "hWb2Gm3YVINv",
        "colab_type": "code",
        "colab": {}
      },
      "cell_type": "code",
      "source": [
        "X_test_df=pd.DataFrame(X_test)\n",
        "X_test_binarised_df = X_test_df.apply(pd.cut, bins=2, labels=[1,0])\n"
      ],
      "execution_count": 0,
      "outputs": []
    },
    {
      "metadata": {
        "id": "MWow0IMlVmAT",
        "colab_type": "code",
        "colab": {}
      },
      "cell_type": "code",
      "source": [
        "X_test_binarised = np.array(X_test_binarised_df)"
      ],
      "execution_count": 0,
      "outputs": []
    },
    {
      "metadata": {
        "id": "orskHbBMVrlP",
        "colab_type": "code",
        "colab": {}
      },
      "cell_type": "code",
      "source": [
        "b=3\n",
        "y_test_mpn=[]\n",
        "for x in zip(X_test_binarised):\n",
        "  \n",
        "  y_pred=int(np.sum(x)>=b)\n",
        "  #print(np.sum(x),b, y_pred)\n",
        "  y_test_mpn.append(y_pred)"
      ],
      "execution_count": 0,
      "outputs": []
    },
    {
      "metadata": {
        "id": "FDZTMom1WwKs",
        "colab_type": "code",
        "colab": {}
      },
      "cell_type": "code",
      "source": [
        "submission = {}\n",
        "submission['ImageId'] = ID_test\n",
        "submission['Class'] = y_test_mpn\n",
        "submission = pd.DataFrame(submission)\n",
        "submission = submission[['ImageId','Class']]\n",
        "submission.to_csv(\"submission_mpn_2_second.csv\",index=False)\n",
        "#print(submission)"
      ],
      "execution_count": 0,
      "outputs": []
    },
    {
      "metadata": {
        "id": "WHC8ZBpHYVGP",
        "colab_type": "text"
      },
      "cell_type": "markdown",
      "source": [
        "# perceptron"
      ]
    },
    {
      "metadata": {
        "id": "ZMdUBBuLYT5n",
        "colab_type": "code",
        "colab": {}
      },
      "cell_type": "code",
      "source": [
        "w=np.zeros(X_train.shape[1])"
      ],
      "execution_count": 0,
      "outputs": []
    },
    {
      "metadata": {
        "id": "CrMp93TdYpCu",
        "colab_type": "code",
        "colab": {}
      },
      "cell_type": "code",
      "source": [
        "class Perceptron:\n",
        "  \n",
        "  \n",
        "  final_w = None\n",
        "  final_b = None\n",
        "  \n",
        "  \n",
        "  def fit(self,X,Y,b=0,lr=1,epochs=1):\n",
        "    accuracy_list={}\n",
        "    w=np.zeros(X.shape[1])\n",
        "    max_accuracy=0\n",
        "    for epoch in tqdm_notebook(range(epochs), total=epochs, unit=\"epoch\"):\n",
        "      for x,y in zip(X,Y):\n",
        "\n",
        "        y_pred=np.dot(x,w.T)\n",
        "\n",
        "        if y_pred<b and y==1:\n",
        "          w = w + x*lr\n",
        "          b = b - 1*lr\n",
        "\n",
        "\n",
        "        elif y_pred>=b and y==0:\n",
        "          w = w - x*lr\n",
        "          b = b + 1*lr\n",
        "\n",
        "\n",
        "\n",
        "      y_train_pred = predict_train(X,w,b)\n",
        "\n",
        "\n",
        "      accuracy=accuracy_score(Y_train,y_train_pred)\n",
        "      #print(accuracy, w, b)\n",
        "      accuracy_list[epoch]=accuracy\n",
        "\n",
        "      if accuracy>max_accuracy:\n",
        "        max_accuracy=accuracy\n",
        "        self.final_b=b\n",
        "        self.final_w=w\n",
        "\n",
        "    plt.plot(accuracy_list.values(),'*')\n",
        "    plt.xlabel('epochs')\n",
        "    plt.ylabel('accuracy')\n",
        "    plt.show()\n",
        "\n",
        "    return max_accuracy\n",
        "  \n",
        "  \n",
        "  \n",
        "  \n",
        "  def predict(self,X):\n",
        "    \n",
        "    y_pred=[]\n",
        "\n",
        "    for x in X:\n",
        "\n",
        "        y=int(np.dot(x,self.final_w.T)>=self.final_b)\n",
        "\n",
        "        y_pred.append(y)\n",
        "      \n",
        "    return y_pred\n",
        "\n",
        "  \n",
        "def predict_train(X,w,b):\n",
        "    \n",
        "    y_pred=[]\n",
        "\n",
        "    for x in X:\n",
        "\n",
        "        y=int(np.dot(x,w.T)>=b)\n",
        "\n",
        "        y_pred.append(y)\n",
        "      \n",
        "    return y_pred  \n",
        "  "
      ],
      "execution_count": 0,
      "outputs": []
    },
    {
      "metadata": {
        "id": "gQBgFYyEYtw8",
        "colab_type": "code",
        "colab": {}
      },
      "cell_type": "code",
      "source": [
        "pr = Perceptron()"
      ],
      "execution_count": 0,
      "outputs": []
    },
    {
      "metadata": {
        "id": "GKfBPtXRZXV-",
        "colab_type": "code",
        "outputId": "f3b392aa-8b69-4446-ac66-7f42ae50009b",
        "colab": {
          "base_uri": "https://localhost:8080/",
          "height": 416
        }
      },
      "cell_type": "code",
      "source": [
        "accuracy= pr.fit(X_train,Y_train,0,0.01,400)\n",
        "print(accuracy)"
      ],
      "execution_count": 0,
      "outputs": [
        {
          "output_type": "display_data",
          "data": {
            "text/html": [
              "<div style=\"display:flex;flex-direction:row;\"><span></span><progress style='margin:2px 4px;' max='400' value='400'></progress>100% 400/400 [00:01&lt;00:00, 202.98epoch/s]</div>"
            ],
            "text/plain": [
              "<tqdm._fake_ipywidgets.HBox object>"
            ]
          },
          "metadata": {
            "tags": []
          }
        },
        {
          "output_type": "stream",
          "text": [
            "\n"
          ],
          "name": "stdout"
        },
        {
          "output_type": "display_data",
          "data": {
            "image/png": "[encoded data removed]",
            "text/plain": [
              "<Figure size 576x396 with 1 Axes>"
            ]
          },
          "metadata": {
            "tags": []
          }
        },
        {
          "output_type": "stream",
          "text": [
            "1.0\n"
          ],
          "name": "stdout"
        }
      ]
    },
    {
      "metadata": {
        "id": "FVyz6V3qVbgB",
        "colab_type": "code",
        "colab": {}
      },
      "cell_type": "code",
      "source": [
        "Y_test_perceptron = pr.predict(X_test)"
      ],
      "execution_count": 0,
      "outputs": []
    },
    {
      "metadata": {
        "id": "mSPBhwJrciAY",
        "colab_type": "code",
        "colab": {}
      },
      "cell_type": "code",
      "source": [
        "submission = {}\n",
        "submission['ImageId'] = ID_test\n",
        "submission['Class'] = Y_test_perceptron\n",
        "submission = pd.DataFrame(submission)\n",
        "submission = submission[['ImageId','Class']]\n",
        "submission.to_csv(\"submission_perceptron_level_2_third.csv\",index=False)\n",
        "#print(submission)"
      ],
      "execution_count": 0,
      "outputs": []
    }
  ]
}